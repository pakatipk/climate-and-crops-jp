{
 "cells": [
  {
   "cell_type": "code",
   "execution_count": 12,
   "id": "ffeb1a05-3856-49aa-8245-f14af6dc1391",
   "metadata": {},
   "outputs": [
    {
     "name": "stdout",
     "output_type": "stream",
     "text": [
      "                              0    1   2   3   4       5        6        7\n",
      "0                           NaN  NaN NaN NaN NaN     NaN      NaN      NaN\n",
      "1                           NaN  NaN NaN NaN NaN     NaN      NaN      NaN\n",
      "2                           NaN  NaN NaN NaN NaN     NaN      NaN      NaN\n",
      "3   ２　令和５年産野菜指定産地の作付面積、収穫量及び出荷量  NaN NaN NaN NaN     NaN      NaN      NaN\n",
      "4                           NaN  NaN NaN NaN NaN     NaN      NaN      NaN\n",
      "5                           NaN  NaN NaN NaN NaN     NaN      NaN      NaN\n",
      "6                           NaN  NaN NaN NaN NaN     NaN      NaN      NaN\n",
      "7                品            目  NaN NaN NaN NaN    作付面積      収穫量      出荷量\n",
      "8                           NaN  NaN NaN NaN NaN     NaN      NaN      NaN\n",
      "9                           NaN  NaN NaN NaN NaN     NaN      NaN      NaN\n",
      "10                          NaN  NaN NaN NaN NaN     NaN      NaN      NaN\n",
      "11                          NaN  NaN NaN NaN NaN     NaN      NaN      NaN\n",
      "12                          NaN  NaN NaN NaN NaN      ha        ｔ        ｔ\n",
      "13                            計  NaN NaN NaN NaN  151600  6611000  6061000\n",
      "14                          NaN  NaN NaN NaN NaN     NaN      NaN      NaN\n",
      "15                         だいこん  NaN NaN NaN NaN    7920   433300   402200\n",
      "16                          NaN    春 NaN NaN NaN    1090    63500    60600\n",
      "17                          NaN    夏 NaN NaN NaN    3160   137700   129700\n",
      "18                          NaN   秋冬 NaN NaN NaN    3660   232100   211900\n",
      "19                          NaN  NaN NaN NaN NaN     NaN      NaN      NaN\n"
     ]
    }
   ],
   "source": [
    "import pandas as pd\n",
    "\n",
    "# Load the Excel file\n",
    "file_path = \"/Users/beek/Documents/Climate & Food Supply Analysis in Japan/Vegetable production and shipping 2023.xlsx\"\n",
    "df = pd.read_excel(file_path, header=None)  # Load without assuming the first row is the header\n",
    "\n",
    "# Preview the raw data\n",
    "print(df.head(20))"
   ]
  },
  {
   "cell_type": "code",
   "execution_count": 13,
   "id": "b045e9f6-43e1-404f-80b0-d50247cf71bc",
   "metadata": {},
   "outputs": [
    {
     "name": "stdout",
     "output_type": "stream",
     "text": [
      "      0    1   2   3   4         5          6          7\n",
      "0     計  NaN NaN NaN NaN  151600.0  6611000.0  6061000.0\n",
      "1   NaN  NaN NaN NaN NaN       NaN        NaN        NaN\n",
      "2  だいこん  NaN NaN NaN NaN    7920.0   433300.0   402200.0\n",
      "3   NaN    春 NaN NaN NaN    1090.0    63500.0    60600.0\n",
      "4   NaN    夏 NaN NaN NaN    3160.0   137700.0   129700.0\n",
      "5   NaN   秋冬 NaN NaN NaN    3660.0   232100.0   211900.0\n",
      "6   NaN  NaN NaN NaN NaN       NaN        NaN        NaN\n",
      "7  にんじん  NaN NaN NaN NaN   10700.0   417000.0   386200.0\n",
      "8   NaN   春夏 NaN NaN NaN    2490.0   111000.0   103400.0\n",
      "9   NaN    秋 NaN NaN NaN    3990.0   146700.0   136500.0\n"
     ]
    }
   ],
   "source": [
    "# Skip unnecessary rows\n",
    "df = pd.read_excel(file_path, skiprows=13, header=None)\n",
    "\n",
    "# Preview the cleaned structure\n",
    "print(df.head(10))"
   ]
  },
  {
   "cell_type": "code",
   "execution_count": 14,
   "id": "bb368573-cf07-492c-94d1-53d2516a83a2",
   "metadata": {},
   "outputs": [
    {
     "name": "stdout",
     "output_type": "stream",
     "text": [
      "      0    1         5          6          7\n",
      "0     計  NaN  151600.0  6611000.0  6061000.0\n",
      "1   NaN  NaN       NaN        NaN        NaN\n",
      "2  だいこん  NaN    7920.0   433300.0   402200.0\n",
      "3   NaN    春    1090.0    63500.0    60600.0\n",
      "4   NaN    夏    3160.0   137700.0   129700.0\n",
      "5   NaN   秋冬    3660.0   232100.0   211900.0\n",
      "6   NaN  NaN       NaN        NaN        NaN\n",
      "7  にんじん  NaN   10700.0   417000.0   386200.0\n",
      "8   NaN   春夏    2490.0   111000.0   103400.0\n",
      "9   NaN    秋    3990.0   146700.0   136500.0\n"
     ]
    }
   ],
   "source": [
    "df = df.drop(df.columns[2:5], axis=1)  # Drops columns at index 2, 3, and 4\n",
    "print(df.head(10))"
   ]
  },
  {
   "cell_type": "code",
   "execution_count": 16,
   "id": "942c31ef-7c7e-4483-9f2b-5aaa747ae492",
   "metadata": {},
   "outputs": [
    {
     "name": "stdout",
     "output_type": "stream",
     "text": [
      "                    0    1         5          6          7\n",
      "0                   計  NaN  151600.0  6611000.0  6061000.0\n",
      "2                だいこん  NaN    7920.0   433300.0   402200.0\n",
      "3                 NaN    春    1090.0    63500.0    60600.0\n",
      "4                 NaN    夏    3160.0   137700.0   129700.0\n",
      "5                 NaN   秋冬    3660.0   232100.0   211900.0\n",
      "7                にんじん  NaN   10700.0   417000.0   386200.0\n",
      "8                 NaN   春夏    2490.0   111000.0   103400.0\n",
      "9                 NaN    秋    3990.0   146700.0   136500.0\n",
      "10                NaN    冬    4240.0   159300.0   146300.0\n",
      "12  ばれいしょ  　　　（じゃがいも）  NaN   48700.0  1821000.0  1634000.0\n",
      "14             秋冬さといも  NaN    1350.0    26900.0    21300.0\n",
      "16               はくさい  NaN    5740.0   427200.0   390100.0\n",
      "17                NaN    春     869.0    65400.0    61900.0\n",
      "18                NaN    夏    1850.0   148100.0   136100.0\n",
      "19                NaN   秋冬    3020.0   213700.0   192100.0\n",
      "21               キャベツ  NaN   17400.0   864900.0   791300.0\n",
      "22                NaN    春    3170.0   141900.0   132500.0\n",
      "23                NaN   夏秋    6630.0   373700.0   330300.0\n",
      "24                NaN    冬    7620.0   349300.0   328500.0\n",
      "26             ほうれんそう  NaN    5860.0    59000.0    53000.0\n"
     ]
    }
   ],
   "source": [
    "df = df.dropna(how=\"all\")  # Removes rows where all values are NaN (completely empty rows)\n",
    "print(df.head(20))"
   ]
  },
  {
   "cell_type": "code",
   "execution_count": 22,
   "id": "25b9cb07-9f59-4cfd-a9f6-5ee6ac08b631",
   "metadata": {},
   "outputs": [
    {
     "name": "stdout",
     "output_type": "stream",
     "text": [
      "                    0    1         5          6          7\n",
      "0                   計  NaN  151600.0  6611000.0  6061000.0\n",
      "2                だいこん  NaN    7920.0   433300.0   402200.0\n",
      "3                だいこん    春    1090.0    63500.0    60600.0\n",
      "4                だいこん    夏    3160.0   137700.0   129700.0\n",
      "5                だいこん   秋冬    3660.0   232100.0   211900.0\n",
      "7                にんじん  NaN   10700.0   417000.0   386200.0\n",
      "8                にんじん   春夏    2490.0   111000.0   103400.0\n",
      "9                にんじん    秋    3990.0   146700.0   136500.0\n",
      "10               にんじん    冬    4240.0   159300.0   146300.0\n",
      "12  ばれいしょ  　　　（じゃがいも）  NaN   48700.0  1821000.0  1634000.0\n"
     ]
    }
   ],
   "source": [
    "df[0] = df[0].ffill()\n",
    "print(df.head(10))"
   ]
  },
  {
   "cell_type": "code",
   "execution_count": 24,
   "id": "17fba136-8378-4dd4-bc5a-1bafbbfc7a74",
   "metadata": {},
   "outputs": [
    {
     "name": "stdout",
     "output_type": "stream",
     "text": [
      "                 Crop Season  Cultivated Area (ha)  Harvested Amount (t)  \\\n",
      "0                   計    NaN              151600.0             6611000.0   \n",
      "2                だいこん    NaN                7920.0              433300.0   \n",
      "3                だいこん      春                1090.0               63500.0   \n",
      "4                だいこん      夏                3160.0              137700.0   \n",
      "5                だいこん     秋冬                3660.0              232100.0   \n",
      "7                にんじん    NaN               10700.0              417000.0   \n",
      "8                にんじん     春夏                2490.0              111000.0   \n",
      "9                にんじん      秋                3990.0              146700.0   \n",
      "10               にんじん      冬                4240.0              159300.0   \n",
      "12  ばれいしょ  　　　（じゃがいも）    NaN               48700.0             1821000.0   \n",
      "\n",
      "    Shipped Amount (t)  \n",
      "0            6061000.0  \n",
      "2             402200.0  \n",
      "3              60600.0  \n",
      "4             129700.0  \n",
      "5             211900.0  \n",
      "7             386200.0  \n",
      "8             103400.0  \n",
      "9             136500.0  \n",
      "10            146300.0  \n",
      "12           1634000.0  \n"
     ]
    }
   ],
   "source": [
    "df = df.rename(columns={0: \"Crop\", 1: \"Season\", 5: \"Cultivated Area (ha)\", 6: \"Harvested Amount (t)\", 7: \"Shipped Amount (t)\"})\n",
    "print(df.head(10))"
   ]
  },
  {
   "cell_type": "code",
   "execution_count": 27,
   "id": "6555e536-c8be-444a-9485-b9a0f70d95b1",
   "metadata": {},
   "outputs": [
    {
     "name": "stdout",
     "output_type": "stream",
     "text": [
      "             Crop         Season  Cultivated Area (ha)  Harvested Amount (t)  \\\n",
      "0           Total            NaN              151600.0             6611000.0   \n",
      "2   Daikon Radish            NaN                7920.0              433300.0   \n",
      "3   Daikon Radish         Spring                1090.0               63500.0   \n",
      "4   Daikon Radish         Summer                3160.0              137700.0   \n",
      "5   Daikon Radish  Autumn-Winter                3660.0              232100.0   \n",
      "7          Carrot            NaN               10700.0              417000.0   \n",
      "8          Carrot  Spring-Summer                2490.0              111000.0   \n",
      "9          Carrot         Autumn                3990.0              146700.0   \n",
      "10         Carrot         Winter                4240.0              159300.0   \n",
      "12         Potato            NaN               48700.0             1821000.0   \n",
      "\n",
      "    Shipped Amount (t)  \n",
      "0            6061000.0  \n",
      "2             402200.0  \n",
      "3              60600.0  \n",
      "4             129700.0  \n",
      "5             211900.0  \n",
      "7             386200.0  \n",
      "8             103400.0  \n",
      "9             136500.0  \n",
      "10            146300.0  \n",
      "12           1634000.0  \n"
     ]
    }
   ],
   "source": [
    "translation_dict = {\n",
    "    \"計\": \"Total\",\n",
    "    \"だいこん\": \"Daikon Radish\",\n",
    "    \"にんじん\": \"Carrot\",\n",
    "    \"ばれいしょ\": \"Potato\",\n",
    "    \"ばれいしょ  　　　（じゃがいも）\": \"Potato\",  # Fix extra spaces\n",
    "    \"じゃがいも\": \"Potato\",\n",
    "    \"秋冬さといも\": \"Autumn-Winter Taro\",\n",
    "    \"はくさい\": \"Chinese Cabbage\",\n",
    "    \"キャベツ\": \"Cabbage\",\n",
    "    \"ほうれんそう\": \"Spinach\",\n",
    "    \"レタス\": \"Lettuce\",\n",
    "    \"ねぎ\": \"Green Onion\",\n",
    "    \"たまねぎ\": \"Onion\",\n",
    "    \"きゅうり\": \"Cucumber\",\n",
    "    \"なす\": \"Eggplant\",\n",
    "    \"トマト\": \"Tomato\",\n",
    "    \"ピーマン\": \"Bell Pepper\",\n",
    "\n",
    "    # Season Names\n",
    "    \"春\": \"Spring\",\n",
    "    \"夏\": \"Summer\",\n",
    "    \"秋\": \"Autumn\",\n",
    "    \"冬\": \"Winter\",\n",
    "    \"秋冬\": \"Autumn-Winter\",\n",
    "    \"春夏\": \"Spring-Summer\",\n",
    "    \"夏秋\": \"Summer-Autumn\",\n",
    "    \"冬春\": \"Winter-Spring\",\n",
    "}\n",
    "# Translate Crop Names and Seasons\n",
    "df[\"Crop\"] = df[\"Crop\"].replace(translation_dict)\n",
    "df[\"Season\"] = df[\"Season\"].replace(translation_dict)\n",
    "print(df.head(10))"
   ]
  },
  {
   "cell_type": "code",
   "execution_count": 28,
   "id": "692ca94f-b588-4828-8635-f26133d9135d",
   "metadata": {},
   "outputs": [
    {
     "name": "stdout",
     "output_type": "stream",
     "text": [
      "             Crop         Season  Cultivated Area (ha)  Harvested Amount (t)  \\\n",
      "0           Total    All Seasons              151600.0             6611000.0   \n",
      "2   Daikon Radish    All Seasons                7920.0              433300.0   \n",
      "3   Daikon Radish         Spring                1090.0               63500.0   \n",
      "4   Daikon Radish         Summer                3160.0              137700.0   \n",
      "5   Daikon Radish  Autumn-Winter                3660.0              232100.0   \n",
      "7          Carrot    All Seasons               10700.0              417000.0   \n",
      "8          Carrot  Spring-Summer                2490.0              111000.0   \n",
      "9          Carrot         Autumn                3990.0              146700.0   \n",
      "10         Carrot         Winter                4240.0              159300.0   \n",
      "12         Potato    All Seasons               48700.0             1821000.0   \n",
      "\n",
      "    Shipped Amount (t)  \n",
      "0            6061000.0  \n",
      "2             402200.0  \n",
      "3              60600.0  \n",
      "4             129700.0  \n",
      "5             211900.0  \n",
      "7             386200.0  \n",
      "8             103400.0  \n",
      "9             136500.0  \n",
      "10            146300.0  \n",
      "12           1634000.0  \n"
     ]
    }
   ],
   "source": [
    "df[\"Season\"] = df[\"Season\"].fillna(\"All Seasons\")\n",
    "print(df.head(10))"
   ]
  },
  {
   "cell_type": "code",
   "execution_count": 35,
   "id": "bece35ae-5508-4781-bfd3-e0d80543ca6e",
   "metadata": {},
   "outputs": [
    {
     "name": "stdout",
     "output_type": "stream",
     "text": [
      "                  Crop         Season  Cultivated Area (ha)  \\\n",
      "2        Daikon Radish    All Seasons                7920.0   \n",
      "3        Daikon Radish         Spring                1090.0   \n",
      "4        Daikon Radish         Summer                3160.0   \n",
      "5        Daikon Radish  Autumn-Winter                3660.0   \n",
      "7               Carrot    All Seasons               10700.0   \n",
      "8               Carrot  Spring-Summer                2490.0   \n",
      "9               Carrot         Autumn                3990.0   \n",
      "10              Carrot         Winter                4240.0   \n",
      "12              Potato    All Seasons               48700.0   \n",
      "14  Autumn-Winter Taro    All Seasons                1350.0   \n",
      "16     Chinese Cabbage    All Seasons                5740.0   \n",
      "17     Chinese Cabbage         Spring                 869.0   \n",
      "18     Chinese Cabbage         Summer                1850.0   \n",
      "19     Chinese Cabbage  Autumn-Winter                3020.0   \n",
      "21             Cabbage    All Seasons               17400.0   \n",
      "22             Cabbage         Spring                3170.0   \n",
      "23             Cabbage  Summer-Autumn                6630.0   \n",
      "24             Cabbage         Winter                7620.0   \n",
      "26             Spinach    All Seasons                5860.0   \n",
      "28             Lettuce    All Seasons               14600.0   \n",
      "\n",
      "    Harvested Amount (t)  Shipped Amount (t)  \n",
      "2               433300.0            402200.0  \n",
      "3                63500.0             60600.0  \n",
      "4               137700.0            129700.0  \n",
      "5               232100.0            211900.0  \n",
      "7               417000.0            386200.0  \n",
      "8               111000.0            103400.0  \n",
      "9               146700.0            136500.0  \n",
      "10              159300.0            146300.0  \n",
      "12             1821000.0           1634000.0  \n",
      "14               26900.0             21300.0  \n",
      "16              427200.0            390100.0  \n",
      "17               65400.0             61900.0  \n",
      "18              148100.0            136100.0  \n",
      "19              213700.0            192100.0  \n",
      "21              864900.0            791300.0  \n",
      "22              141900.0            132500.0  \n",
      "23              373700.0            330300.0  \n",
      "24              349300.0            328500.0  \n",
      "26               59000.0             53000.0  \n",
      "28              428700.0            410900.0  \n"
     ]
    }
   ],
   "source": [
    "df = df[df[\"Crop\"] != \"Total\"]\n",
    "df = df.iloc[:-1]  # Removes the last row\n",
    "print(df.head(20))"
   ]
  },
  {
   "cell_type": "code",
   "execution_count": 34,
   "id": "c774100a-7d06-4625-abc2-0083899eff94",
   "metadata": {},
   "outputs": [],
   "source": [
    "df.to_excel(\"cleaned_vegetable_production_2023.xlsx\", index=False)"
   ]
  },
  {
   "cell_type": "code",
   "execution_count": null,
   "id": "91ed01fe-7960-41dc-b5f5-201d29c984d4",
   "metadata": {},
   "outputs": [],
   "source": []
  }
 ],
 "metadata": {
  "kernelspec": {
   "display_name": "Python 3 (ipykernel)",
   "language": "python",
   "name": "python3"
  },
  "language_info": {
   "codemirror_mode": {
    "name": "ipython",
    "version": 3
   },
   "file_extension": ".py",
   "mimetype": "text/x-python",
   "name": "python",
   "nbconvert_exporter": "python",
   "pygments_lexer": "ipython3",
   "version": "3.11.4"
  }
 },
 "nbformat": 4,
 "nbformat_minor": 5
}
